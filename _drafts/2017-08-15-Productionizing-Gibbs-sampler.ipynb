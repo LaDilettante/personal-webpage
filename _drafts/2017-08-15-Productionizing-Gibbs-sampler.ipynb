{
 "cells": [
  {
   "cell_type": "markdown",
   "metadata": {},
   "source": [
    "---\n",
    "title: \"Gibbs sampler as a product\"\n",
    "excerpt: \"Awesome excerpt\"\n",
    "---"
   ]
  },
  {
   "cell_type": "markdown",
   "metadata": {},
   "source": [
    "$$\n",
    "x^2\n",
    "$$"
   ]
  },
  {
   "cell_type": "markdown",
   "metadata": {},
   "source": [
    "$x^2$"
   ]
  },
  {
   "cell_type": "markdown",
   "metadata": {},
   "source": [
    "$$\n",
    "\\begin{align}\n",
    "x &=2 \\\\\n",
    "y &= 3\n",
    "\\end{align}\n",
    "$$"
   ]
  },
  {
   "cell_type": "markdown",
   "metadata": {},
   "source": [
    "My summer project at Civis Analytics this summer is to derive and implement a Gibbs sampler for one of their core algorithm. While I've had done several Gibbs samplers in my academic work, in those situations I knew that a solution exists, and the Gibbs sampler is written as a minimum viable product with little regard paid to maintainability and robustness. Now that my code will be used to make business decision worth many dollars, I have to make sure that my code is well tested and easy for other engineers to read and contribute.\n",
    "\n",
    "At the heart of the approach is the Testing MCMC code framework by Roger Grosse. As the paper lays out, testing traditional MCMC code is difficult because:\n",
    "\n",
    "- The output is probabilistic\n",
    "- With regularization and prior the result can be reasonable even when the code is wrong\n",
    "- When the code is right the result can still be wrong because the density we try to sample from is just difficult.\n",
    "\n",
    "With all of that complications, the signal of a test quickly vanishes into the noise. Furthermore, exarcebating the problem is that the Gibbs sampler is frequently taught in school as a giant loop updating one parameter each. While such implementation facilitates pedagogy by keeping only the materials essential to the Gibbs sampler, it does not make use of useful engineering practices.\n",
    "\n",
    "Consider a Gibbs sampler for a univariate normal model:"
   ]
  },
  {
   "cell_type": "markdown",
   "metadata": {},
   "source": [
    "**Likelihood**\n",
    "\n",
    "$$Data = Y_1, \\dots, Y_n \\sim i.i.d. N(\\theta, \\sigma^2)$$\n",
    "\n",
    "The parameters are $(\\theta, \\sigma^2)$, the data is a vector of $Y_i$\n",
    "\n",
    "**Prior**\n",
    "\n",
    "$$\n",
    "\\begin{align}\n",
    "p(\\theta) &\\sim N(\\mu_0, \\tau^2_0) \\\\\n",
    "p(\\sigma^2) &\\sim Inverse-Gamma(\\nu_0 / 2, \\nu_0 \\sigma^2_0 / 2) \n",
    "\\end{align}\n",
    "$$\n",
    "\n",
    "**Full conditional**\n",
    "\n",
    "$$\n",
    "\\begin{align} \n",
    "p(\\theta | \\tilde \\sigma^2, Data) &= N(\\mu_n, \\tau^2_n) \\\\\n",
    "p( \\sigma^2 | \\theta, Data) &= Inverse-Gamma(\\frac{\\nu_n}{2}, \\frac{\\nu_n \\sigma_n^2(\\theta)}{2}) \n",
    "\\end{align} \n",
    "$$\n",
    "\n",
    "where\n",
    "\n",
    "$$\n",
    "\\begin{align} \n",
    "\\tau_n^2 = \\frac{1}{\\frac{1}{\\tau_0^2} + \\frac{n}{\\sigma^2}} \\qquad &\\text{and} \\qquad \\mu_n = \\frac{\\frac{\\mu_0}{\\tau_0^2} + \\frac{n\\bar y}{\\sigma^2}}{\\frac{1}{\\tau_0^2} + \\frac{n}{\\sigma^2}} \\\\\n",
    "\\nu_n = \\nu_0 + n \\qquad &\\text{and} \\qquad \\sigma^2_n(\\theta) = \\frac{1}{\\nu_n} \\left[ \\nu_0\\sigma_0^2 + n \\frac{\\sum (y_i - \\theta)^2}{n}\\right]\n",
    "\\end{align}\n",
    "$$"
   ]
  },
  {
   "cell_type": "markdown",
   "metadata": {},
   "source": [
    "Then the Gibbs sampler is a big for-loop:\n",
    "\n",
    "for s in range(S):\n",
    "- Draw $\\theta$ from $p(\\theta_s | \\sigma^2_{s-1}, data)$\n",
    "- Draw $\\sigma^2$ from $p(\\sigma^2_s | \\theta_s, data)$"
   ]
  },
  {
   "cell_type": "markdown",
   "metadata": {},
   "source": [
    "Now, how do we know whether we have derived this Gibbs sampler correctly? One approach is to set the parameter values ourselves and see whether the Gibbs sampler is able to recover it. (A colleague told me that this is called an oracle test, which doesn't seem widely used according to Google, but definitely should!)"
   ]
  },
  {
   "cell_type": "code",
   "execution_count": 11,
   "metadata": {
    "collapsed": true
   },
   "outputs": [],
   "source": [
    "import numpy as np\n",
    "import scipy.stats as stats\n",
    "import pandas as pd\n",
    "from plotnine import *\n",
    "\n",
    "true_theta = 2\n",
    "true_sigma2 = 3.5\n",
    "y = np.random.normal(true_theta, np.sqrt(true_sigma2), size = 100)"
   ]
  },
  {
   "cell_type": "code",
   "execution_count": 16,
   "metadata": {
    "collapsed": true
   },
   "outputs": [],
   "source": [
    "prior_mu_0 = 0\n",
    "prior_tau2_0 = 1\n",
    "prior_nu_0 = 1\n",
    "prior_sigma2_0 = 0.01"
   ]
  },
  {
   "cell_type": "code",
   "execution_count": 18,
   "metadata": {
    "collapsed": true
   },
   "outputs": [],
   "source": [
    "n = len(y)\n",
    "ybar = np.mean(y)\n",
    "\n",
    "# Initialize storage\n",
    "S = 1000 # Number of samples that we'll draw from the Gibbs sampler\n",
    "res_theta = np.empty(S)\n",
    "res_sigma2 = np.empty(S)\n",
    "\n",
    "# Starting value as the sample variance and mean\n",
    "res_sigma2[0] = y.var()\n",
    "res_theta[0] = ybar\n",
    "\n",
    "# Gibbs sampler -- big loop\n",
    "for s in range(1, S):\n",
    "# Full conditional for theta\n",
    "    sigma2 = res_sigma2[s - 1] # Get the current value of sigma2\n",
    "\n",
    "    tau2_n = 1 / (1 / prior_tau2_0 + n / sigma2)\n",
    "    mu_n = (prior_mu_0 / prior_tau2_0 + n * ybar / sigma2) / (1 / prior_tau2_0 + n / sigma2)\n",
    "\n",
    "    # Generate and save theta\n",
    "    res_theta[s] = scipy.stats.norm(mu_n, np.sqrt(tau2_n)).rvs()\n",
    "\n",
    "    # Full conditional for sigma\n",
    "    theta = res_theta[s] # Get the current value of theta\n",
    "\n",
    "    nu_n = prior_nu_0 + n\n",
    "    nu_sigma2_n = prior_nu_0 * prior_sigma2_0 + sum((y - theta) ** 2)\n",
    "    res_sigma2[s] = 1 / scipy.stats.gamma(nu_n / 2, scale=2 / nu_sigma2_n).rvs()"
   ]
  },
  {
   "cell_type": "code",
   "execution_count": 2,
   "metadata": {
    "collapsed": true
   },
   "outputs": [],
   "source": [
    "y = np.array([1.64, 1.70, 1.72, 1.74, 1.82, 1.82, 1.82, 1.90, 2.08])\n",
    "theta_samples, sigma2_samples = gibbs_sampler(y = y, S = 1000,\n",
    "                   mu_0 = 1.9, tau2_0 = 0.95 ** 2,\n",
    "                   sigma2_0 = 0.01, nu_0 = 1)"
   ]
  },
  {
   "cell_type": "code",
   "execution_count": 3,
   "metadata": {},
   "outputs": [
    {
     "data": {
      "image/png": "[encoded data removed]",
      "text/plain": [
       "<matplotlib.figure.Figure at 0x116c09f60>"
      ]
     },
     "metadata": {},
     "output_type": "display_data"
    },
    {
     "data": {
      "text/plain": [
       "<ggplot: (289204186)>"
      ]
     },
     "execution_count": 3,
     "metadata": {},
     "output_type": "execute_result"
    }
   ],
   "source": [
    "ggplot(pd.DataFrame({'theta':theta_samples})) + geom_density(aes('theta')) + theme_bw()"
   ]
  },
  {
   "cell_type": "markdown",
   "metadata": {},
   "source": [
    "# Okay, but how do we test that big foor loop?\n",
    "\n",
    "- It's probabilitistic -- so there is no expected outcome for unit test (e.g. ```assert actual_outcome == expected_outcome```)\n",
    "- It's slow -- so we can't re-run the test suite everytime we make a small change\n",
    "- It's not modular -- failures can come from doing the math wrong, from coding any of the conditionals wrong"
   ]
  },
  {
   "cell_type": "markdown",
   "metadata": {},
   "source": [
    "# Solution 1: Unit test your conditional\n",
    "\n",
    "For any value of $\\theta, \\theta'$\n",
    "\n",
    "\\begin{align}\n",
    "\\frac{p(\\theta | z)}{p(\\theta' | z)} &= \\frac{p(\\theta | z)p(z)}{p(\\theta' | z)p(z)} \\\\\n",
    "&= \\frac{p(\\theta, z)}{p(\\theta', z)}\n",
    "\\end{align}\n",
    "\n",
    "The LHS is hard to get right, but the RHS is very easy to get right (indeed, $p(\\theta, z) = p(z | \\theta) p(\\theta)$). So the RHS can be the easy-to-verify \"expected outcome\" that we test the LHS against in a unit test.\n",
    "\n",
    "This strategy also suggests that we modularize our MCMC code, separating each conditional $p(\\theta | z)$ into its own function. This way we can unit test each conditional."
   ]
  },
  {
   "cell_type": "code",
   "execution_count": 4,
   "metadata": {
    "collapsed": true
   },
   "outputs": [],
   "source": [
    "class State(object):\n",
    "    def __init__(self, theta, sigma2):\n",
    "        self.theta = theta\n",
    "        self.sigma2 = sigma2\n",
    "\n",
    "class Model(object):\n",
    "    def __init__(self, theta_prior, sigma2_prior):\n",
    "        self.theta_prior = theta_prior\n",
    "        self.sigma2_prior = sigma2_prior\n",
    "\n",
    "    # Conditional distribution of theta\n",
    "    def cond_theta(self, state, data):\n",
    "        n = len(data)\n",
    "        mean_prior = self.theta_prior.args[0]\n",
    "        variance_prior = self.theta_prior.args[1] ** 2\n",
    "\n",
    "        variance_post = 1 / (1 / variance_prior + n / state.sigma2)\n",
    "        mean_post = variance_post * (mean_prior / variance_prior + n * data.mean() / state.sigma2)\n",
    "        return scipy.stats.norm(mean_post, np.sqrt(variance_post))\n",
    "\n",
    "    # Conditional distribution of theta\n",
    "    def cond_sigma2(self, state, data):\n",
    "        n = len(data)\n",
    "        shape_prior = self.sigma2_prior.kwds['a']\n",
    "        scale_prior = self.sigma2_prior.kwds['scale']\n",
    "\n",
    "        shape_post = shape_prior + n / 2\n",
    "        scale_post = scale_prior + np.sum((data - state.theta) ** 2) / 2\n",
    "        return scipy.stats.invgamma(shape_post, scale=scale_post)\n",
    "\n",
    "    # One Gibbs step is just iterating through the conditionals\n",
    "    def gibbs_step(self, state, data):\n",
    "        state.theta = self.cond_theta(state, data).rvs()\n",
    "        state.sigma2 = self.cond_sigma2(state, data).rvs()"
   ]
  },
  {
   "cell_type": "code",
   "execution_count": 5,
   "metadata": {
    "collapsed": true
   },
   "outputs": [],
   "source": [
    "import pytest\n",
    "\n",
    "@pytest.fixture\n",
    "def random_model():\n",
    "    theta_prior = scipy.stats.norm(np.random.uniform(), np.random.uniform())\n",
    "    sigma2_prior = scipy.stats.invgamma(a=np.random.uniform(),\n",
    "                                        scale=np.random.uniform())\n",
    "    return Model(theta_prior=theta_prior,\n",
    "                 sigma2_prior=sigma2_prior)\n",
    "\n",
    "@pytest.fixture\n",
    "def random_state():\n",
    "    return State(np.random.uniform(), np.random.uniform())\n",
    "\n",
    "@pytest.fixture\n",
    "def random_data():\n",
    "    return np.random.normal(size=10)\n",
    "\n",
    "def test_cond_theta(random_model, random_state, random_data):\n",
    "\n",
    "    cond = random_model.cond_theta(random_state, random_data)\n",
    "    new_state = copy.deepcopy(random_state)\n",
    "    new_state.theta = np.random.uniform()\n",
    "\n",
    "    assert np.allclose(cond.logpdf(new_state.theta) - cond.logpdf(state.theta),\n",
    "                       random_model.joint_log_p(new_state, data) - \\\n",
    "                       random_model.joint_log_p(state, data))"
   ]
  },
  {
   "cell_type": "code",
   "execution_count": null,
   "metadata": {
    "collapsed": true
   },
   "outputs": [],
   "source": []
  }
 ],
 "metadata": {
  "kernelspec": {
   "display_name": "Python 3",
   "language": "python",
   "name": "python3"
  },
  "language_info": {
   "codemirror_mode": {
    "name": "ipython",
    "version": 3
   },
   "file_extension": ".py",
   "mimetype": "text/x-python",
   "name": "python",
   "nbconvert_exporter": "python",
   "pygments_lexer": "ipython3",
   "version": "3.6.2"
  }
 },
 "nbformat": 4,
 "nbformat_minor": 2
}
